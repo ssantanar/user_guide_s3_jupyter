{
 "cells": [
  {
   "cell_type": "markdown",
   "metadata": {},
   "source": [
    "## 1. Folder local"
   ]
  },
  {
   "cell_type": "markdown",
   "metadata": {},
   "source": [
    "1. Crear en cada proyecto que consulte los datos en S3, una carpeta llamada `local` (recordar agregar `local/` en el `.gitignore`).\n",
    "\n",
    "2. Dentro de la carpeta, crear el archivo `vars.env` con la siguiente informacion (esto se puede hacer con el comando `vim vars.env`, se modifique el archivo y se termina de editar de la siguinte forma: `esc`-> `;` -> `wq` -> `enter`):\n",
    "```\n",
    "S3_ID = <ID>\n",
    "S3_SECRET = <SECRET>\n",
    "```"
   ]
  },
  {
   "cell_type": "code",
   "execution_count": 9,
   "metadata": {},
   "outputs": [
    {
     "data": {
      "text/plain": [
       "True"
      ]
     },
     "execution_count": 9,
     "metadata": {},
     "output_type": "execute_result"
    }
   ],
   "source": [
    "import boto3 #libreria para conextar con s3\n",
    "import pandas as pd\n",
    "import os\n",
    "import pickle\n",
    "import io\n",
    "from io import StringIO\n",
    "\n",
    "#benv\n",
    "from dotenv import load_dotenv\n",
    "load_dotenv(dotenv_path = 'local/vars.env')"
   ]
  },
  {
   "cell_type": "markdown",
   "metadata": {},
   "source": [
    "## 2. Read files"
   ]
  },
  {
   "cell_type": "code",
   "execution_count": 10,
   "metadata": {},
   "outputs": [],
   "source": [
    "#Conexion s3\n",
    "s3 = boto3.client('s3',\n",
    "                  aws_access_key_id = os.environ['AWS_ID'],\n",
    "                  aws_secret_access_key = os.environ['AWS_SECRET'],\n",
    "                  endpoint_url = 'http://localhost:9000')"
   ]
  },
  {
   "cell_type": "code",
   "execution_count": 15,
   "metadata": {},
   "outputs": [
    {
     "data": {
      "text/html": [
       "<div>\n",
       "<style scoped>\n",
       "    .dataframe tbody tr th:only-of-type {\n",
       "        vertical-align: middle;\n",
       "    }\n",
       "\n",
       "    .dataframe tbody tr th {\n",
       "        vertical-align: top;\n",
       "    }\n",
       "\n",
       "    .dataframe thead th {\n",
       "        text-align: right;\n",
       "    }\n",
       "</style>\n",
       "<table border=\"1\" class=\"dataframe\">\n",
       "  <thead>\n",
       "    <tr style=\"text-align: right;\">\n",
       "      <th></th>\n",
       "      <th>ID</th>\n",
       "      <th>value</th>\n",
       "      <th>test</th>\n",
       "    </tr>\n",
       "  </thead>\n",
       "  <tbody>\n",
       "    <tr>\n",
       "      <th>0</th>\n",
       "      <td>1</td>\n",
       "      <td>2</td>\n",
       "      <td>3</td>\n",
       "    </tr>\n",
       "    <tr>\n",
       "      <th>1</th>\n",
       "      <td>3</td>\n",
       "      <td>4</td>\n",
       "      <td>7</td>\n",
       "    </tr>\n",
       "    <tr>\n",
       "      <th>2</th>\n",
       "      <td>5</td>\n",
       "      <td>6</td>\n",
       "      <td>11</td>\n",
       "    </tr>\n",
       "  </tbody>\n",
       "</table>\n",
       "</div>"
      ],
      "text/plain": [
       "   ID  value  test\n",
       "0   1      2     3\n",
       "1   3      4     7\n",
       "2   5      6    11"
      ]
     },
     "execution_count": 15,
     "metadata": {},
     "output_type": "execute_result"
    }
   ],
   "source": [
    "# read with pandas\n",
    "binnaries = s3.get_object(Bucket = 'common', Key = 'test/test_write.csv')['Body'].read()\n",
    "df = pd.read_csv(io.StringIO(binnaries.decode('utf-8')), sep=\";\")\n",
    "df.head()"
   ]
  },
  {
   "cell_type": "markdown",
   "metadata": {},
   "source": [
    "## 3. Write file"
   ]
  },
  {
   "cell_type": "code",
   "execution_count": 14,
   "metadata": {},
   "outputs": [
    {
     "data": {
      "text/plain": [
       "{'ResponseMetadata': {'RequestId': '16125EF05CD5379E',\n",
       "  'HostId': '',\n",
       "  'HTTPStatusCode': 200,\n",
       "  'HTTPHeaders': {'accept-ranges': 'bytes',\n",
       "   'content-length': '0',\n",
       "   'content-security-policy': 'block-all-mixed-content',\n",
       "   'etag': '\"fd01d1610ddf9aeea4ac47500f2aa825\"',\n",
       "   'server': 'MinIO/RELEASE.2020-05-16T01-33-21Z',\n",
       "   'vary': 'Origin',\n",
       "   'x-amz-request-id': '16125EF05CD5379E',\n",
       "   'x-xss-protection': '1; mode=block',\n",
       "   'date': 'Mon, 25 May 2020 20:20:04 GMT'},\n",
       "  'RetryAttempts': 0},\n",
       " 'ETag': '\"fd01d1610ddf9aeea4ac47500f2aa825\"'}"
      ]
     },
     "execution_count": 14,
     "metadata": {},
     "output_type": "execute_result"
    }
   ],
   "source": [
    "csv_buf = StringIO()\n",
    "df.to_csv(csv_buf, header=True, index=False, sep=\";\")\n",
    "csv_buf.seek(0)\n",
    "s3.put_object(Bucket='common', Body=csv_buf.getvalue(), Key='test/test_write.csv')"
   ]
  },
  {
   "cell_type": "code",
   "execution_count": null,
   "metadata": {},
   "outputs": [],
   "source": []
  }
 ],
 "metadata": {
  "kernelspec": {
   "display_name": "ss-env",
   "language": "python",
   "name": "ss-env"
  },
  "language_info": {
   "codemirror_mode": {
    "name": "ipython",
    "version": 3
   },
   "file_extension": ".py",
   "mimetype": "text/x-python",
   "name": "python",
   "nbconvert_exporter": "python",
   "pygments_lexer": "ipython3",
   "version": "3.8.3"
  }
 },
 "nbformat": 4,
 "nbformat_minor": 2
}
