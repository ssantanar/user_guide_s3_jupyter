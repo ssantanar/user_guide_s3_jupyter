{
 "cells": [
  {
   "cell_type": "markdown",
   "metadata": {},
   "source": [
    "## 1. Folder local"
   ]
  },
  {
   "cell_type": "markdown",
   "metadata": {},
   "source": [
    "1. Crear en cada proyecto que consulte los datos en S3, una carpeta llamada `local` (recordar agregar `local/` en el `.gitignore`).\n",
    "\n",
    "2. Dentro de la carpeta, crear el archivo `vars.env` con la siguiente informacion (esto se puede hacer con el comando `vim vars.env`, se modifique el archivo y se termina de editar de la siguinte forma: `esc`-> `;` -> `wq` -> `enter`):\n",
    "```\n",
    "S3_ID = <ID>\n",
    "S3_SECRET = <SECRET>\n",
    "```"
   ]
  },
  {
   "cell_type": "code",
   "execution_count": 4,
   "metadata": {},
   "outputs": [],
   "source": [
    "import boto3 #libreria para conextar con s3\n",
    "import pandas as pd\n",
    "import os\n",
    "\n",
    "#benv\n",
    "from dotenv import load_dotenv\n",
    "load_dotenv(dotenv_path = '../local/vars.env')"
   ]
  },
  {
   "cell_type": "markdown",
   "metadata": {},
   "source": [
    "## 2. Real files"
   ]
  },
  {
   "cell_type": "code",
   "execution_count": 6,
   "metadata": {},
   "outputs": [],
   "source": [
    "#Conexion s3\n",
    "client = boto3.client('s3',\n",
    "                      aws_access_key_id = os.environ['S3_ID'],\n",
    "                      aws_secret_access_key = os.environ['S3_SECRET'],\n",
    "                      endpoint_url = 'http://localhost:9000')"
   ]
  },
  {
   "cell_type": "code",
   "execution_count": null,
   "metadata": {},
   "outputs": [],
   "source": [
    "# read with pandas\n",
    "df = pd.read_csv(client.get_object(Bucket = 'test', Key = 'test.csv')['Body'].read(), sep=\",\")\n",
    "df.head()"
   ]
  },
  {
   "cell_type": "markdown",
   "metadata": {},
   "source": [
    "## 3. Write file"
   ]
  },
  {
   "cell_type": "code",
   "execution_count": null,
   "metadata": {},
   "outputs": [],
   "source": [
    "df.to_csv(client.get_object(Bucket = 'test', Key = 'test_write.csv')['Body'].write())"
   ]
  }
 ],
 "metadata": {
  "kernelspec": {
   "display_name": "Python 3",
   "language": "python",
   "name": "python3"
  },
  "language_info": {
   "codemirror_mode": {
    "name": "ipython",
    "version": 3
   },
   "file_extension": ".py",
   "mimetype": "text/x-python",
   "name": "python",
   "nbconvert_exporter": "python",
   "pygments_lexer": "ipython3",
   "version": "3.7.6"
  }
 },
 "nbformat": 4,
 "nbformat_minor": 2
}
