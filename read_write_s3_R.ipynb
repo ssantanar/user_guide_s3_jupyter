{
 "cells": [
  {
   "cell_type": "markdown",
   "metadata": {},
   "source": [
    "## 1. Folder local"
   ]
  },
  {
   "cell_type": "markdown",
   "metadata": {},
   "source": [
    "1. Crear en cada proyecto que consulte los datos en S3, una carpeta llamada `local` (recordar agregar `local/` en el `.gitignore`).\n",
    "\n",
    "2. Dentro de la carpeta, crear el archivo `vars.env` con la siguiente informacion (esto se puede hacer con el comando `vim vars.env`, se modifique el archivo y se termina de editar de la siguinte forma: `esc`-> `:` -> `wq` -> `enter`):\n",
    "```\n",
    "S3_ID = <ID>\n",
    "S3_SECRET = <SECRET>\n",
    "```"
   ]
  },
  {
   "cell_type": "code",
   "execution_count": 6,
   "metadata": {},
   "outputs": [
    {
     "name": "stderr",
     "output_type": "stream",
     "text": [
      "Downloading GitHub repo nagdevAmruthnath/minio.s3@master\n",
      "\n"
     ]
    },
    {
     "name": "stdout",
     "output_type": "stream",
     "text": [
      "aws.signa... (NA -> 0.6.0) [CRAN]\n"
     ]
    },
    {
     "name": "stderr",
     "output_type": "stream",
     "text": [
      "Installing 1 packages: aws.signature\n",
      "\n",
      "Installing package into ‘/home/ssantana/R/x86_64-pc-linux-gnu-library/3.6’\n",
      "(as ‘lib’ is unspecified)\n",
      "\n"
     ]
    },
    {
     "name": "stdout",
     "output_type": "stream",
     "text": [
      "\u001b[32m✔\u001b[39m  \u001b[90mchecking for file ‘/tmp/RtmpdDi8S1/remotes28071c805df3/nagdevAmruthnath-minio.s3-4ae6351/DESCRIPTION’\u001b[39m\u001b[36m\u001b[36m (452ms)\u001b[36m\u001b[39m\n",
      "\u001b[90m─\u001b[39m\u001b[90m  \u001b[39m\u001b[90mpreparing ‘minio.s3’:\u001b[39m\u001b[36m\u001b[39m\n",
      "\u001b[32m✔\u001b[39m  \u001b[90mchecking DESCRIPTION meta-information\u001b[39m\u001b[36m\u001b[39m\n",
      "\u001b[90m─\u001b[39m\u001b[90m  \u001b[39m\u001b[90mchecking for LF line-endings in source and make files and shell scripts\u001b[39m\u001b[36m\u001b[39m\n",
      "\u001b[90m─\u001b[39m\u001b[90m  \u001b[39m\u001b[90mchecking for empty or unneeded directories\u001b[39m\u001b[36m\u001b[39m\n",
      "\u001b[90m─\u001b[39m\u001b[90m  \u001b[39m\u001b[90mbuilding ‘minio.s3_0.3.8.tar.gz’\u001b[39m\u001b[36m\u001b[39m\n",
      "   \n",
      "\r"
     ]
    },
    {
     "name": "stderr",
     "output_type": "stream",
     "text": [
      "Installing package into ‘/home/ssantana/R/x86_64-pc-linux-gnu-library/3.6’\n",
      "(as ‘lib’ is unspecified)\n",
      "\n"
     ]
    }
   ],
   "source": [
    "# instalar librerias (realizar sólo una vez)\n",
    "install.packages(\"dotenv\")\n",
    "install.packages(\"devtools\")\n",
    "library(\"devtools\") # nos permitira instalar \"minio.s3\"\n",
    "install_github(\"nagdevAmruthnath/minio.s3\")"
   ]
  },
  {
   "cell_type": "code",
   "execution_count": 7,
   "metadata": {},
   "outputs": [],
   "source": [
    "# cargar librerias\n",
    "library(\"dotenv\")   # cargar variables de entorno\n",
    "library(\"devtools\") # nos permitira instalar \"minio.s3\"\n",
    "library(\"minio.s3\") # para comunicacion con minio"
   ]
  },
  {
   "cell_type": "code",
   "execution_count": 18,
   "metadata": {},
   "outputs": [
    {
     "data": {
      "text/html": [
       "<table>\n",
       "<caption>A data.frame: 2 × 1</caption>\n",
       "<thead>\n",
       "\t<tr><th></th><th scope=col>c..common....2020.05.22T13.37.49.325Z..</th></tr>\n",
       "\t<tr><th></th><th scope=col>&lt;chr&gt;</th></tr>\n",
       "</thead>\n",
       "<tbody>\n",
       "\t<tr><th scope=row>1</th><td>common                  </td></tr>\n",
       "\t<tr><th scope=row>2</th><td>2020-05-22T13:37:49.325Z</td></tr>\n",
       "</tbody>\n",
       "</table>\n"
      ],
      "text/latex": [
       "A data.frame: 2 × 1\n",
       "\\begin{tabular}{r|l}\n",
       "  & c..common....2020.05.22T13.37.49.325Z..\\\\\n",
       "  & <chr>\\\\\n",
       "\\hline\n",
       "\t1 & common                  \\\\\n",
       "\t2 & 2020-05-22T13:37:49.325Z\\\\\n",
       "\\end{tabular}\n"
      ],
      "text/markdown": [
       "\n",
       "A data.frame: 2 × 1\n",
       "\n",
       "| <!--/--> | c..common....2020.05.22T13.37.49.325Z.. &lt;chr&gt; |\n",
       "|---|---|\n",
       "| 1 | common                   |\n",
       "| 2 | 2020-05-22T13:37:49.325Z |\n",
       "\n"
      ],
      "text/plain": [
       "  c..common....2020.05.22T13.37.49.325Z..\n",
       "1 common                                 \n",
       "2 2020-05-22T13:37:49.325Z               "
      ]
     },
     "metadata": {},
     "output_type": "display_data"
    }
   ],
   "source": [
    "# Carga variables de entorno desde 'local/vars.env'\n",
    "# local/keys for access\n",
    "load_dot_env(file = \"local/vars.env\")\n",
    "\n",
    "Sys.setenv(\"AWS_ACCESS_KEY_ID\" = Sys.getenv(\"AWS_ID\"),\n",
    "           \"AWS_SECRET_ACCESS_KEY\" = Sys.getenv(\"AWS_SECRET\"),\n",
    "           \"AWS_DEFAULT_REGION\" = Sys.getenv(\"AWS_DEFAULT_REGION\"),\n",
    "           \"AWS_S3_ENDPOINT\" = Sys.getenv(\"AWS_S3_ENDPOINT\"))\n",
    "\n",
    "# connect to bucket\n",
    "bucketlist(add_region = FALSE) # if this print something, a connection has been made, else an error will appear"
   ]
  },
  {
   "cell_type": "markdown",
   "metadata": {},
   "source": [
    "## 2. Read files"
   ]
  },
  {
   "cell_type": "code",
   "execution_count": 23,
   "metadata": {},
   "outputs": [
    {
     "data": {
      "text/html": [
       "<table>\n",
       "<caption>A data.frame: 3 × 2</caption>\n",
       "<thead>\n",
       "\t<tr><th scope=col>ID</th><th scope=col>value</th></tr>\n",
       "\t<tr><th scope=col>&lt;int&gt;</th><th scope=col>&lt;int&gt;</th></tr>\n",
       "</thead>\n",
       "<tbody>\n",
       "\t<tr><td>1</td><td>2</td></tr>\n",
       "\t<tr><td>3</td><td>4</td></tr>\n",
       "\t<tr><td>5</td><td>6</td></tr>\n",
       "</tbody>\n",
       "</table>\n"
      ],
      "text/latex": [
       "A data.frame: 3 × 2\n",
       "\\begin{tabular}{ll}\n",
       " ID & value\\\\\n",
       " <int> & <int>\\\\\n",
       "\\hline\n",
       "\t 1 & 2\\\\\n",
       "\t 3 & 4\\\\\n",
       "\t 5 & 6\\\\\n",
       "\\end{tabular}\n"
      ],
      "text/markdown": [
       "\n",
       "A data.frame: 3 × 2\n",
       "\n",
       "| ID &lt;int&gt; | value &lt;int&gt; |\n",
       "|---|---|\n",
       "| 1 | 2 |\n",
       "| 3 | 4 |\n",
       "| 5 | 6 |\n",
       "\n"
      ],
      "text/plain": [
       "  ID value\n",
       "1 1  2    \n",
       "2 3  4    \n",
       "3 5  6    "
      ]
     },
     "metadata": {},
     "output_type": "display_data"
    }
   ],
   "source": [
    "#connect to s3\n",
    "b <- get_bucket(bucket = 'common', use_https = F)\n",
    "\n",
    "# read file\n",
    "file <- \"test/test.csv\"\n",
    "# get data in char format, then decode\n",
    "char <- rawToChar(get_object(file, bucket = \"common\", use_https = F))\n",
    "df <- read.csv(text = char, sep = \";\", header = TRUE)\n",
    "df"
   ]
  },
  {
   "cell_type": "markdown",
   "metadata": {},
   "source": [
    "## 3. Write files"
   ]
  },
  {
   "cell_type": "code",
   "execution_count": 25,
   "metadata": {},
   "outputs": [],
   "source": [
    "# write\n",
    "s3write_using(df, FUN = write.csv, bucket = \"common\", object = \"test/test_write_r.csv\")\n"
   ]
  },
  {
   "cell_type": "code",
   "execution_count": null,
   "metadata": {},
   "outputs": [],
   "source": []
  }
 ],
 "metadata": {
  "kernelspec": {
   "display_name": "R 3.6",
   "language": "R",
   "name": "ir36"
  },
  "language_info": {
   "codemirror_mode": "r",
   "file_extension": ".r",
   "mimetype": "text/x-r-source",
   "name": "R",
   "pygments_lexer": "r",
   "version": "3.6.1"
  }
 },
 "nbformat": 4,
 "nbformat_minor": 2
}
